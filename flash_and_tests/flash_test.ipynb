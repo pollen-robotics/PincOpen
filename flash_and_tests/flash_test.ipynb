{
 "cells": [
  {
   "cell_type": "code",
   "execution_count": 1,
   "id": "2ab57d6f-0386-479e-b342-30c940619d4c",
   "metadata": {},
   "outputs": [],
   "source": [
    "from pypot.feetech import FeetechSTS3215IO\n",
    "import time"
   ]
  },
  {
   "cell_type": "markdown",
   "id": "618eda2e",
   "metadata": {},
   "source": [
    "## Motor initialisation"
   ]
  },
  {
   "cell_type": "code",
   "execution_count": 2,
   "id": "848aea05-835a-4e5d-bd42-e2889f1f7c02",
   "metadata": {},
   "outputs": [],
   "source": [
    "gripper = FeetechSTS3215IO(port='/dev/tty.usbmodem58FD0164681', baudrate=\"1000000\")"
   ]
  },
  {
   "cell_type": "markdown",
   "id": "b063162d",
   "metadata": {},
   "source": [
    "Set the ID of the motor, that should be configured in its firmware before the assembly."
   ]
  },
  {
   "cell_type": "code",
   "execution_count": 3,
   "id": "b474d3c6-7f9f-4326-811a-3e56ccac839a",
   "metadata": {},
   "outputs": [],
   "source": [
    "ID = 6"
   ]
  },
  {
   "cell_type": "markdown",
   "id": "549c229f",
   "metadata": {},
   "source": [
    "Try if the motor get stiff"
   ]
  },
  {
   "cell_type": "code",
   "execution_count": 4,
   "id": "5f43a34b-71f6-47c0-8c78-639fb48641b9",
   "metadata": {},
   "outputs": [],
   "source": [
    "gripper.enable_torque([6])"
   ]
  },
  {
   "cell_type": "markdown",
   "id": "45d77aa8",
   "metadata": {},
   "source": [
    "Then set it compliant again."
   ]
  },
  {
   "cell_type": "code",
   "execution_count": null,
   "id": "3dda6958",
   "metadata": {},
   "outputs": [],
   "source": [
    "gripper.disable_torque([6])"
   ]
  },
  {
   "cell_type": "markdown",
   "id": "baa861f0",
   "metadata": {},
   "source": [
    "## Flash the motors usefull parameters"
   ]
  },
  {
   "cell_type": "markdown",
   "id": "31de1222",
   "metadata": {},
   "source": [
    "First, open the gripper and check that the value is close to -140° and not a value completely elsewhere"
   ]
  },
  {
   "cell_type": "code",
   "execution_count": 18,
   "id": "23b88d5d-4320-437a-8baf-d2a293c38728",
   "metadata": {},
   "outputs": [
    {
     "data": {
      "text/plain": [
       "(-11.74,)"
      ]
     },
     "execution_count": 18,
     "metadata": {},
     "output_type": "execute_result"
    }
   ],
   "source": [
    "gripper.get_present_position([ID])"
   ]
  },
  {
   "cell_type": "markdown",
   "id": "8e9d9553",
   "metadata": {},
   "source": [
    "Then do it again, closed this time, and check the value is around 0°"
   ]
  },
  {
   "cell_type": "code",
   "execution_count": null,
   "id": "416290c2",
   "metadata": {},
   "outputs": [
    {
     "data": {
      "text/plain": [
       "(-11.74,)"
      ]
     },
     "metadata": {},
     "output_type": "display_data"
    }
   ],
   "source": [
    "gripper.get_present_position([ID])"
   ]
  },
  {
   "cell_type": "markdown",
   "id": "bc3dbfc6",
   "metadata": {},
   "source": [
    "If everything went well, then we can flash the needed parameters:"
   ]
  },
  {
   "cell_type": "code",
   "execution_count": 25,
   "id": "8e2cd6b2",
   "metadata": {},
   "outputs": [],
   "source": [
    "gripper.set_lock({ID: 0})\n",
    "time.sleep(0.5)\n",
    "gripper.set_acceleration({ID: 200})\n",
    "time.sleep(0.5)\n",
    "\n",
    "gripper.set_max_angle_limit({ID: 0})\n",
    "time.sleep(0.5)\n",
    "gripper.set_min_angle_limit({ID: -147})\n",
    "time.sleep(0.5)\n",
    "\n",
    "gripper.set_torque_limit({ID: 1000})\n",
    "time.sleep(0.5)\n",
    "\n",
    "gripper.set_overload_torque({ID: 40})\n",
    "time.sleep(0.5)\n",
    "\n",
    "gripper.set_protective_torque({ID: 5})\n",
    "time.sleep(0.5)\n",
    "\n",
    "gripper.set_protection_time({ID: 7})\n",
    "time.sleep(0.5)\n",
    "\n",
    "gripper.set_lock({ID: 1})"
   ]
  },
  {
   "cell_type": "markdown",
   "id": "611db814",
   "metadata": {},
   "source": [
    "Remarks : \n",
    "- To change the general torque limit: Register 16 set_torque_limit and not max_torque_limit.\n",
    "- For fast movement, we must not limit the current, which proportionally decreases the speed.\n",
    "- So we set an 'overload torque' threshold at 65%, which engages the protective torque set at 20%.\n",
    "- To ensure reactivity, we set the protection time to 2, i.e. 20ms. 10ms sometimes too sensitive"
   ]
  },
  {
   "cell_type": "markdown",
   "id": "2861fb7b",
   "metadata": {},
   "source": [
    "## Try the gripper!  \n",
    "Let's define simple methods to use it easily"
   ]
  },
  {
   "cell_type": "code",
   "execution_count": 5,
   "id": "8e87fb21-34c1-4f52-8677-0b7f577df08e",
   "metadata": {},
   "outputs": [],
   "source": [
    "def open():\n",
    "    gripper.enable_torque([ID])\n",
    "    gripper.set_goal_position({ID: -140})\n",
    "\n",
    "def close():\n",
    "    gripper.enable_torque([ID])\n",
    "    gripper.set_goal_position({ID: 0})"
   ]
  },
  {
   "cell_type": "markdown",
   "id": "3b4f7275",
   "metadata": {},
   "source": [
    "Then try them:"
   ]
  },
  {
   "cell_type": "code",
   "execution_count": 36,
   "id": "1e104a31-17dc-4312-88ef-ad68930b2889",
   "metadata": {},
   "outputs": [],
   "source": [
    "open()"
   ]
  },
  {
   "cell_type": "code",
   "execution_count": 35,
   "id": "4a9a927e-882e-47fa-a3c0-c77fd8ef65f9",
   "metadata": {},
   "outputs": [],
   "source": [
    "close()"
   ]
  }
 ],
 "metadata": {
  "kernelspec": {
   "display_name": "Python 3 (ipykernel)",
   "language": "python",
   "name": "python3"
  },
  "language_info": {
   "codemirror_mode": {
    "name": "ipython",
    "version": 3
   },
   "file_extension": ".py",
   "mimetype": "text/x-python",
   "name": "python",
   "nbconvert_exporter": "python",
   "pygments_lexer": "ipython3",
   "version": "3.10.6"
  }
 },
 "nbformat": 4,
 "nbformat_minor": 5
}
